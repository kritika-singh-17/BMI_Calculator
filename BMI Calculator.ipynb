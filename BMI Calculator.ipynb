{
 "cells": [
  {
   "cell_type": "markdown",
   "id": "0c5be915",
   "metadata": {},
   "source": [
    "BMI CALCULATOR"
   ]
  },
  {
   "cell_type": "code",
   "execution_count": null,
   "id": "77689bce",
   "metadata": {},
   "outputs": [],
   "source": [
    "name=input(\"Enter yout name:\")\n",
    "\n",
    "weight=int(input(\"Enter your weight in pounds:\"))\n",
    "\n",
    "height=int(input(\"Enter your height in inches:\"))\n",
    "\n",
    "BMI=(weight*703)/(height * height )\n",
    "\n",
    "print(BMI)\n",
    "\n",
    "if BMI>0:\n",
    "    if(BMI<18.5):\n",
    "        print(name+\", you are underweight.\")\n",
    "    elif(BMI>=18.5 and BMI<=24.9):\n",
    "        print(name+\", you are normalweight.\")\n",
    "    elif(BMI>=25 and BMI<=29.9):\n",
    "        print(name+\", you are overweight.\")\n",
    "    elif(BMI>=30 and BMI<=34.9):\n",
    "        print(name+\", you are obese.\")\n",
    "    elif(BMI>=35 and BMI<=39.9):\n",
    "        print(name+\", you are Severely obese.\")\n",
    "    else:\n",
    "        print(name+\", you are Morbidly obese.\")\n",
    "        \n",
    "else:\n",
    "    print(\"Enter valid input\")\n"
   ]
  },
  {
   "cell_type": "code",
   "execution_count": null,
   "id": "e320adff",
   "metadata": {},
   "outputs": [],
   "source": []
  }
 ],
 "metadata": {
  "kernelspec": {
   "display_name": "Python 3 (ipykernel)",
   "language": "python",
   "name": "python3"
  },
  "language_info": {
   "codemirror_mode": {
    "name": "ipython",
    "version": 3
   },
   "file_extension": ".py",
   "mimetype": "text/x-python",
   "name": "python",
   "nbconvert_exporter": "python",
   "pygments_lexer": "ipython3",
   "version": "3.11.5"
  }
 },
 "nbformat": 4,
 "nbformat_minor": 5
}
